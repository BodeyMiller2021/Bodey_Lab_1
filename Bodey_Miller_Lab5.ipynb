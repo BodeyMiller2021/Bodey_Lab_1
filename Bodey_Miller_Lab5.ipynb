{
  "cells": [
    {
      "cell_type": "markdown",
      "metadata": {
        "id": "view-in-github",
        "colab_type": "text"
      },
      "source": [
        "<a href=\"https://colab.research.google.com/github/BodeyMiller2021/Bodey_Lab_1/blob/main/Bodey_Miller_Lab5.ipynb\" target=\"_parent\"><img src=\"https://colab.research.google.com/assets/colab-badge.svg\" alt=\"Open In Colab\"/></a>"
      ]
    },
    {
      "cell_type": "markdown",
      "metadata": {
        "id": "F7Kkw511nL1F"
      },
      "source": [
        "#Galton Board Lab"
      ]
    },
    {
      "cell_type": "markdown",
      "metadata": {
        "id": "JiZpI9wDbh75"
      },
      "source": [
        "![alt text](https://www.physlab.org/wp-content/uploads/2016/03/Galton_Board_5.jpeg) Very interesting video"
      ]
    },
    {
      "cell_type": "markdown",
      "metadata": {
        "id": "2eOkTpKYllrA"
      },
      "source": [
        "# 1) Watch this Video \n",
        "https://www.youtube.com/watch?v=SZoDNfVFS7I"
      ]
    },
    {
      "cell_type": "markdown",
      "metadata": {
        "id": "MAckRKG5mjp0"
      },
      "source": [
        "# 2) Run this Demo (Cool stuff)\n",
        "## Change all the settings and watch what happens\n",
        "https://www.mathsisfun.com/data/quincunx.html"
      ]
    },
    {
      "cell_type": "markdown",
      "metadata": {
        "id": "1K6v21JflpGY"
      },
      "source": [
        "# 3) Comment ALL of the code below. Explain each step in as much detail as possible. Add code cells to show intermediate steps. "
      ]
    },
    {
      "cell_type": "code",
      "execution_count": null,
      "metadata": {
        "id": "CpvjnOHwfu4g"
      },
      "outputs": [],
      "source": [
        "import numpy as np # Basic starting process\n",
        "import matplotlib.pyplot as plt"
      ]
    },
    {
      "cell_type": "code",
      "execution_count": null,
      "metadata": {
        "id": "3DKoK_RLfvmu"
      },
      "outputs": [],
      "source": [
        "def coin(): # Creating a random generator for Heads = 1 Tails = -1\n",
        "    return 2*(np.random.random() > 0.5) - 1"
      ]
    },
    {
      "cell_type": "code",
      "execution_count": null,
      "metadata": {
        "colab": {
          "base_uri": "https://localhost:8080/"
        },
        "id": "upVKpqKamKIO",
        "outputId": "31c927d2-07b9-4278-caa9-f8f85a5b496e"
      },
      "outputs": [
        {
          "data": {
            "text/plain": [
              "-1"
            ]
          },
          "execution_count": 9,
          "metadata": {},
          "output_type": "execute_result"
        }
      ],
      "source": [
        "coin()"
      ]
    },
    {
      "cell_type": "code",
      "execution_count": null,
      "metadata": {
        "colab": {
          "base_uri": "https://localhost:8080/"
        },
        "id": "_Tpo3k_Rfvkm",
        "outputId": "2c7eff7c-864f-46fa-9b3d-8b2a22c74e74"
      },
      "outputs": [
        {
          "data": {
            "text/plain": [
              "1"
            ]
          },
          "execution_count": 100,
          "metadata": {},
          "output_type": "execute_result"
        }
      ],
      "source": [
        "x = 0 # Adding x (0) to coin\n",
        "x + coin()"
      ]
    },
    {
      "cell_type": "code",
      "execution_count": null,
      "metadata": {
        "id": "bQ3khwo8nSC5"
      },
      "outputs": [],
      "source": [
        "x = 0 # Defining i in the range as 3 (Will only give answer of Tails)\n",
        "\n",
        "for i in range(3):\n",
        "    x = x + coin()"
      ]
    },
    {
      "cell_type": "code",
      "execution_count": null,
      "metadata": {
        "colab": {
          "base_uri": "https://localhost:8080/"
        },
        "id": "d7ABUR99nT6X",
        "outputId": "afb376cd-2bb3-428c-cbf7-75bc8eb7c278"
      },
      "outputs": [
        {
          "data": {
            "text/plain": [
              "-1"
            ]
          },
          "execution_count": 102,
          "metadata": {},
          "output_type": "execute_result"
        }
      ],
      "source": [
        "x"
      ]
    },
    {
      "cell_type": "code",
      "execution_count": null,
      "metadata": {
        "id": "NFy-Myfefvq5"
      },
      "outputs": [],
      "source": [
        "x = 0 # Defining i in the range as 100 now to get only answer of 3 (Previous range)\n",
        "\n",
        "for i in range(100):\n",
        "    x = x + coin()"
      ]
    },
    {
      "cell_type": "code",
      "execution_count": null,
      "metadata": {
        "colab": {
          "base_uri": "https://localhost:8080/"
        },
        "id": "sdOlgTxFfvs3",
        "outputId": "706d1532-3691-4499-af39-2b3d352aa10c"
      },
      "outputs": [
        {
          "data": {
            "text/plain": [
              "-2"
            ]
          },
          "execution_count": 104,
          "metadata": {},
          "output_type": "execute_result"
        }
      ],
      "source": [
        "x"
      ]
    },
    {
      "cell_type": "code",
      "execution_count": null,
      "metadata": {
        "id": "uLXLzA03gabE"
      },
      "outputs": [],
      "source": [
        "M = 1000 # normal distribution left(less numbers) or right \n",
        "N = 100 # Way of distributing the x-axis numbers. If number goes to 10 instead of 100 the bar go by 2.5 not 20 points. (All depends of M as well)\n",
        "\n",
        "X = np.zeros(M,) # The x axis\n",
        "\n",
        "for j in range(M): # The normal distribution (Average)\n",
        "\n",
        "    x = 0\n",
        "\n",
        "    for i in range(N): # Reverting back to original function\n",
        "        x = x + coin()\n",
        "\n",
        "    X[j] = x"
      ]
    },
    {
      "cell_type": "code",
      "execution_count": null,
      "metadata": {
        "colab": {
          "base_uri": "https://localhost:8080/",
          "height": 266
        },
        "id": "twqazgNcgOm1",
        "outputId": "7a5d5f48-c4f4-498c-f733-8543d176488b"
      },
      "outputs": [
        {
          "data": {
            "image/png": "[encoded data removed]",
            "text/plain": [
              "<Figure size 432x288 with 1 Axes>"
            ]
          },
          "metadata": {},
          "output_type": "display_data"
        }
      ],
      "source": [
        "plt.hist(X,10); # Plotting graph with X being the np.zeros(M,) and 10 as the width or amount being swayed toa certain side I believe"
      ]
    },
    {
      "cell_type": "code",
      "execution_count": null,
      "metadata": {
        "id": "gulMHCqUgOtK"
      },
      "outputs": [],
      "source": [
        "#Trying things out 1\n",
        "M = 100 \n",
        "N = 10 \n",
        "\n",
        "X = np.zeros(M,) \n",
        "\n",
        "for j in range(M): \n",
        "\n",
        "    x = 0\n",
        "\n",
        "    for i in range(N): \n",
        "        x = x + coin()\n",
        "\n",
        "    X[j] = x"
      ]
    },
    {
      "cell_type": "code",
      "execution_count": null,
      "metadata": {
        "colab": {
          "base_uri": "https://localhost:8080/",
          "height": 268
        },
        "id": "H1S8EfiBgOvZ",
        "outputId": "5dadcefe-9add-4a08-8430-201892dfc3b5"
      },
      "outputs": [
        {
          "data": {
            "image/png": "[encoded data removed]",
            "text/plain": [
              "<Figure size 432x288 with 1 Axes>"
            ]
          },
          "metadata": {},
          "output_type": "display_data"
        }
      ],
      "source": [
        "plt.hist(X,10); # Still shows the normal distribution but in sections\n"
      ]
    },
    {
      "cell_type": "code",
      "execution_count": null,
      "metadata": {
        "id": "-P5R39RagOyC"
      },
      "outputs": [],
      "source": [
        "#Trying things out 2\n",
        "M = 10\n",
        "N = 10 \n",
        "\n",
        "X = np.zeros(M,) \n",
        "\n",
        "for j in range(M): \n",
        "\n",
        "    x = 0\n",
        "\n",
        "    for i in range(N): \n",
        "        x = x + coin()\n",
        "\n",
        "    X[j] = x"
      ]
    },
    {
      "cell_type": "code",
      "execution_count": null,
      "metadata": {
        "id": "xv6sVeRdtdbm"
      },
      "outputs": [],
      "source": [
        "#Trying things out 3\n",
        "M = 100\n",
        "N = 100\n",
        "\n",
        "X = np.zeros(M,) \n",
        "\n",
        "for j in range(M): \n",
        "\n",
        "    x = 0\n",
        "\n",
        "    for i in range(N): \n",
        "        x = x + coin()\n",
        "\n",
        "    X[j] = x"
      ]
    },
    {
      "cell_type": "code",
      "execution_count": null,
      "metadata": {
        "colab": {
          "base_uri": "https://localhost:8080/",
          "height": 265
        },
        "id": "5YA1AWg4tdUL",
        "outputId": "90ac078e-b411-429c-cd0b-54c9dc7cb4e0"
      },
      "outputs": [
        {
          "data": {
            "image/png": "[encoded data removed]",
            "text/plain": [
              "<Figure size 432x288 with 1 Axes>"
            ]
          },
          "metadata": {},
          "output_type": "display_data"
        }
      ],
      "source": [
        "plt.hist(X,10); # Guess that similar M and N skips columns and are wider"
      ]
    },
    {
      "cell_type": "code",
      "execution_count": null,
      "metadata": {
        "colab": {
          "base_uri": "https://localhost:8080/",
          "height": 265
        },
        "id": "YQ8pCoa89IxE",
        "outputId": "88a2257d-f0e7-487c-adc3-53d55a16f601"
      },
      "outputs": [
        {
          "data": {
            "image/png": "[encoded data removed]",
            "text/plain": [
              "<Figure size 432x288 with 1 Axes>"
            ]
          },
          "metadata": {},
          "output_type": "display_data"
        }
      ],
      "source": [
        "plt.hist(X,100); #Shows the slimness of each column I guess"
      ]
    },
    {
      "cell_type": "code",
      "execution_count": null,
      "metadata": {
        "colab": {
          "base_uri": "https://localhost:8080/",
          "height": 265
        },
        "id": "7Fg7r3Sx9I6D",
        "outputId": "fa062f38-11c3-4cf3-f945-2702d303f240"
      },
      "outputs": [
        {
          "data": {
            "image/png": "[encoded data removed]",
            "text/plain": [
              "<Figure size 432x288 with 1 Axes>"
            ]
          },
          "metadata": {},
          "output_type": "display_data"
        }
      ],
      "source": [
        "plt.hist(X,1); # Yea the smaller the number the bigger the space taken up"
      ]
    },
    {
      "cell_type": "code",
      "execution_count": null,
      "metadata": {
        "colab": {
          "base_uri": "https://localhost:8080/",
          "height": 265
        },
        "id": "DiEnUInQ9I9L",
        "outputId": "15be72f5-6310-4540-c15f-c23daa908f24"
      },
      "outputs": [
        {
          "data": {
            "image/png": "[encoded data removed]",
            "text/plain": [
              "<Figure size 432x288 with 1 Axes>"
            ]
          },
          "metadata": {},
          "output_type": "display_data"
        }
      ],
      "source": [
        "plt.hist(X,6);"
      ]
    },
    {
      "cell_type": "code",
      "execution_count": null,
      "metadata": {
        "colab": {
          "base_uri": "https://localhost:8080/",
          "height": 265
        },
        "id": "hP5Ckdzq9I__",
        "outputId": "1d087d0b-9e16-43db-ab4e-d936c9c3e41b"
      },
      "outputs": [
        {
          "data": {
            "image/png": "[encoded data removed]",
            "text/plain": [
              "<Figure size 432x288 with 1 Axes>"
            ]
          },
          "metadata": {},
          "output_type": "display_data"
        }
      ],
      "source": [
        "plt.hist(X,7);"
      ]
    },
    {
      "cell_type": "code",
      "execution_count": null,
      "metadata": {
        "colab": {
          "base_uri": "https://localhost:8080/",
          "height": 265
        },
        "id": "dhTtAcXj9JCL",
        "outputId": "abb3baa7-989f-4863-a7fb-642111e62e06"
      },
      "outputs": [
        {
          "data": {
            "image/png": "[encoded data removed]",
            "text/plain": [
              "<Figure size 432x288 with 1 Axes>"
            ]
          },
          "metadata": {},
          "output_type": "display_data"
        }
      ],
      "source": [
        "plt.hist(X,8);"
      ]
    },
    {
      "cell_type": "code",
      "execution_count": null,
      "metadata": {
        "colab": {
          "background_save": true
        },
        "id": "StLyzxis9pBk",
        "outputId": "453a9102-9faf-4986-8582-03f48f3a1dc2"
      },
      "outputs": [
        {
          "data": {
            "image/png": "[encoded data removed]",
            "text/plain": [
              "<Figure size 432x288 with 1 Axes>"
            ]
          },
          "metadata": {},
          "output_type": "display_data"
        }
      ],
      "source": [
        "plt.hist(X,9); # The further down the line the more normally distributed the data will become"
      ]
    },
    {
      "cell_type": "code",
      "execution_count": null,
      "metadata": {
        "id": "LKMXNT2m9pD8"
      },
      "outputs": [],
      "source": []
    },
    {
      "cell_type": "code",
      "execution_count": null,
      "metadata": {
        "id": "RWSIImyB9pJU"
      },
      "outputs": [],
      "source": []
    },
    {
      "cell_type": "code",
      "execution_count": null,
      "metadata": {
        "id": "x5ITZ0D19pLc"
      },
      "outputs": [],
      "source": []
    },
    {
      "cell_type": "code",
      "execution_count": null,
      "metadata": {
        "id": "wFrVu0Va9pOE"
      },
      "outputs": [],
      "source": []
    },
    {
      "cell_type": "code",
      "execution_count": null,
      "metadata": {
        "id": "snyuTzqB9pQ2"
      },
      "outputs": [],
      "source": []
    },
    {
      "cell_type": "code",
      "execution_count": null,
      "metadata": {
        "id": "GCuchUhdtdh6"
      },
      "outputs": [],
      "source": []
    },
    {
      "cell_type": "markdown",
      "metadata": {
        "id": "SJ_lgmvntUhi"
      },
      "source": [
        "# Bonus: Explain Pascal's Triangle"
      ]
    },
    {
      "cell_type": "code",
      "execution_count": null,
      "metadata": {
        "colab": {
          "base_uri": "https://localhost:8080/"
        },
        "id": "ksVd5iqgfvu-",
        "outputId": "5afae837-3e56-40ff-9c3c-976538675fe2"
      },
      "outputs": [
        {
          "name": "stdout",
          "output_type": "stream",
          "text": [
            "[[  0.   0.   0.   2.   0.   0.   0.   0.   0.   0.   0.   0.   0.]\n",
            " [  0.   0.   0.   2.   2.   0.   0.   0.   0.   0.   0.   0.   0.]\n",
            " [  0.   0.   0.   2.   4.   2.   0.   0.   0.   0.   0.   0.   0.]\n",
            " [  0.   0.   0.   2.   6.   6.   2.   0.   0.   0.   0.   0.   0.]\n",
            " [  0.   0.   0.   2.   8.  12.   8.   2.   0.   0.   0.   0.   0.]\n",
            " [  0.   0.   0.   2.  10.  20.  20.  10.   2.   0.   0.   0.   0.]\n",
            " [  0.   0.   0.   2.  12.  30.  40.  30.  12.   2.   0.   0.   0.]\n",
            " [  0.   0.   0.   2.  14.  42.  70.  70.  42.  14.   0.   0.   0.]\n",
            " [  0.   0.   0.   2.  16.  56. 112. 140. 112.  56.   0.   0.   0.]\n",
            " [  0.   0.   0.   2.  18.  72. 168. 252. 252. 168.   0.   0.   0.]\n",
            " [  0.   0.   0.   2.  20.  90. 240. 420. 504. 420.   0.   0.   0.]\n",
            " [  0.   0.   0.   2.  22. 110. 330. 660. 924. 924.   0.   0.   0.]]\n"
          ]
        }
      ],
      "source": [
        "P = np.zeros((12,18)) # (Rows, Columns)\n",
        "\n",
        "P[0,8]=2 # First number has to be 0 but second number changes which direction average mean is placed on whole board. if number gets bigger the table shifts rightward but not over 14 then everything beomes 0. \n",
        "# The number it equals will be what is squared\n",
        "\n",
        "for i in range(1,P.shape[0]): # This is a set sequence and I cant figure out what changes with each number\n",
        "\n",
        "    for j in range(1,P.shape[1]-3): # Adding a nugative number (The negative number doesnt matter as long as its negative) \n",
        "\n",
        "        P[i,j] = P[i-1,j-1]+P[i-1,j] # Combining the i and j\n",
        "\n",
        "print(P[:,5:]) # Finalizing the steps to print it out"
      ]
    },
    {
      "cell_type": "code",
      "execution_count": null,
      "metadata": {
        "id": "lvFXzt6PteNw"
      },
      "outputs": [],
      "source": []
    }
  ],
  "metadata": {
    "colab": {
      "provenance": [],
      "include_colab_link": true
    },
    "kernelspec": {
      "display_name": "Python 3",
      "name": "python3"
    }
  },
  "nbformat": 4,
  "nbformat_minor": 0
}